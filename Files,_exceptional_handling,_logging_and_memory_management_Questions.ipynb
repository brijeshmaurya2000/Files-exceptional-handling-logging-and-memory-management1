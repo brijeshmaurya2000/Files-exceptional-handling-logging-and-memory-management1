{
  "nbformat": 4,
  "nbformat_minor": 0,
  "metadata": {
    "colab": {
      "provenance": []
    },
    "kernelspec": {
      "name": "python3",
      "display_name": "Python 3"
    },
    "language_info": {
      "name": "python"
    }
  },
  "cells": [
    {
      "cell_type": "markdown",
      "source": [
        "1.  What is the difference between interpreted and compiled languages/\n",
        "\n",
        "- **Compiled Languages**\n",
        "\n",
        "      Process: The entire source code is translated into machine code before it runs.\n",
        "\n",
        "      Tool: A compiler (e.g., gcc for C/C++) converts the code into an executable file.\n",
        "\n",
        "      Execution: Once compiled, the program runs directly on the machine, without needing the source code\n",
        "\n",
        "    - Faster execution (since it's already machine code)\n",
        "\n",
        "    - Better optimization\n",
        "\n",
        "\n",
        "\n",
        "  -  **Interpreted Languages**\n",
        "\n",
        "   Process: Code is executed line-by-line at runtime.\n",
        "\n",
        "   Tool: An interpreter (e.g., Python interpreter, JavaScript engine) runs the code directly.\n",
        "\n",
        "   Execution: No separate executable file; code must be interpreted every time it runs.\n",
        "\n",
        "   - Easier to test and debug\n",
        "\n",
        "    - More flexible and dynamic"
      ],
      "metadata": {
        "id": "L8G_5LxqjzIt"
      }
    },
    {
      "cell_type": "markdown",
      "source": [
        "2.  What is exception handling in Python?\n",
        "\n",
        "  - Exception handling in Python is a way to gracefully manage errors that occur during program execution, so your program doesn't crash unexpe\n",
        "\n",
        "\n",
        "\n"
      ],
      "metadata": {
        "id": "b5ub1_j1mFoF"
      }
    },
    {
      "cell_type": "markdown",
      "source": [
        "3. What is the purpose of the finally block in exception handling?\n",
        "\n",
        "  - The finally block in exception handling is used to define code that always runs, regardless of whether an exception was raised or not.\n",
        "\n",
        " - **Purpose**\n",
        "\n",
        "  - To ensure that important cleanup actions are performed, such as:\n",
        "\n",
        "   - Closing files or network connections\n",
        "\n",
        "   - Releasing system resources\n",
        "\n",
        "  - Committing or rolling back database transactions\n",
        "\n",
        "  - Printing final status messages"
      ],
      "metadata": {
        "id": "0WN8stvVnNHp"
      }
    },
    {
      "cell_type": "markdown",
      "source": [
        "4. What is logging in Python?\n",
        "\n",
        " - Logging in Python is the process of recording messages that describe events  that happen while your program runs."
      ],
      "metadata": {
        "id": "DtdGhecUoWFu"
      }
    },
    {
      "cell_type": "code",
      "source": [
        "#example\n",
        "import logging\n",
        "\n",
        "logging.basicConfig(level=logging.INFO)\n",
        "\n",
        "logging.info(\"This is an info message.\")\n",
        "logging.warning(\"This is a warning.\")\n",
        "logging.error(\"This is an error.\")\n"
      ],
      "metadata": {
        "colab": {
          "base_uri": "https://localhost:8080/"
        },
        "id": "VZ3KwBgQo5GI",
        "outputId": "e8f476a9-dc13-4cca-ba63-0d55cb9cd6b2"
      },
      "execution_count": 1,
      "outputs": [
        {
          "output_type": "stream",
          "name": "stderr",
          "text": [
            "WARNING:root:This is a warning.\n",
            "ERROR:root:This is an error.\n"
          ]
        }
      ]
    },
    {
      "cell_type": "markdown",
      "source": [
        "5. What is the significance of the __del__ method in Python?\n",
        "\n",
        " - The __del__ method in Python is a special method called a destructor. It is   automatically called when an object is about to be destroyed — typically when there are no more references to the object."
      ],
      "metadata": {
        "id": "-mjHW-kTpDNS"
      }
    },
    {
      "cell_type": "code",
      "source": [
        "#example\n",
        "class MyClass:\n",
        "    def __init__(self):\n",
        "        print(\"Object created.\")\n",
        "\n",
        "    def __del__(self):\n",
        "        print(\"Object is being destroyed.\")\n",
        "\n",
        "obj = MyClass()\n",
        "del obj  # Force object deletion\n"
      ],
      "metadata": {
        "colab": {
          "base_uri": "https://localhost:8080/"
        },
        "id": "bs8WNyiVpl9b",
        "outputId": "eb18d1a7-11d4-48b7-d456-f8730d28fe54"
      },
      "execution_count": 2,
      "outputs": [
        {
          "output_type": "stream",
          "name": "stdout",
          "text": [
            "Object created.\n",
            "Object is being destroyed.\n"
          ]
        }
      ]
    },
    {
      "cell_type": "markdown",
      "source": [
        "6. What is the difference between import and from ... import in Python?\n",
        "\n",
        " - Both import and from ... import are used to bring in external modules or functions into your Python code — but they differ in how they import and how you access what’s imported."
      ],
      "metadata": {
        "id": "JoXg2_1jpySU"
      }
    },
    {
      "cell_type": "code",
      "source": [
        "import math\n",
        "\n",
        "print(math.sqrt(16))  # Access using module name\n"
      ],
      "metadata": {
        "colab": {
          "base_uri": "https://localhost:8080/"
        },
        "id": "plLkofrTqKjw",
        "outputId": "a81f41da-04db-44f2-ae03-531b8306c28e"
      },
      "execution_count": 3,
      "outputs": [
        {
          "output_type": "stream",
          "name": "stdout",
          "text": [
            "4.0\n"
          ]
        }
      ]
    },
    {
      "cell_type": "code",
      "source": [
        "from math import sqrt\n",
        "\n",
        "print(sqrt(16))  # Output: 4.0\n"
      ],
      "metadata": {
        "colab": {
          "base_uri": "https://localhost:8080/"
        },
        "id": "j8skZO8Uq_P8",
        "outputId": "9000628b-ef25-4c02-dfc1-6cacf6ad4a09"
      },
      "execution_count": 4,
      "outputs": [
        {
          "output_type": "stream",
          "name": "stdout",
          "text": [
            "4.0\n"
          ]
        }
      ]
    },
    {
      "cell_type": "markdown",
      "source": [
        "7. How can you handle multiple exceptions in Python?\n",
        "\n",
        " - In Python, you can handle multiple exceptions in a few different ways depending on your needs."
      ],
      "metadata": {
        "id": "wQBmx6jgrICg"
      }
    },
    {
      "cell_type": "code",
      "source": [
        "#Use a tuple to catch several exceptions with the same handler:\n",
        "try:\n",
        "    # some risky code\n",
        "    x = int(\"abc\")  # This will raise ValueError\n",
        "except (ValueError, TypeError) as e:\n",
        "    print(f\"Caught an exception: {e}\")\n"
      ],
      "metadata": {
        "colab": {
          "base_uri": "https://localhost:8080/"
        },
        "id": "mJd2bkvVrkoq",
        "outputId": "592cae13-b321-483f-ac4f-155ef3bdc29d"
      },
      "execution_count": 5,
      "outputs": [
        {
          "output_type": "stream",
          "name": "stdout",
          "text": [
            "Caught an exception: invalid literal for int() with base 10: 'abc'\n"
          ]
        }
      ]
    },
    {
      "cell_type": "code",
      "source": [
        "#This catches any exception, but can hide bugs if overused\n",
        "try:\n",
        "    # some risky code\n",
        "    result = 10 / 0\n",
        "except ZeroDivisionError:\n",
        "    print(\"You can't divide by zero!\")\n",
        "except ValueError:\n",
        "    print(\"There was a value error.\")\n"
      ],
      "metadata": {
        "colab": {
          "base_uri": "https://localhost:8080/"
        },
        "id": "_9CgmDZzr8Kp",
        "outputId": "868b0766-6ca4-4c64-ae37-1a97786e22f4"
      },
      "execution_count": 6,
      "outputs": [
        {
          "output_type": "stream",
          "name": "stdout",
          "text": [
            "You can't divide by zero!\n"
          ]
        }
      ]
    },
    {
      "cell_type": "markdown",
      "source": [
        "8. What is the purpose of the with statement when handling files in Python?\n",
        "\n",
        " - The with statement in Python is used for simpler, cleaner, and safer resource management—especially with files.\n",
        "\n"
      ],
      "metadata": {
        "id": "wPWC6rGSsQ0M"
      }
    },
    {
      "cell_type": "markdown",
      "source": [
        "9. What is the difference between multithreading and multiprocessing?\n",
        "\n",
        "- **Multithreading**\n",
        "\n",
        " - Definition: Running multiple threads within the same process.\n",
        "\n",
        "  - Threads share the same memory space (same process memory).\n",
        "\n",
        "  - Use case: Good for tasks that involve a lot of waiting (I/O-bound tasks like reading files, network operations).\n",
        "\n",
        "  - Limitations: Due to Python's Global Interpreter Lock (GIL), only one thread runs Python bytecode at a time, so multithreading doesn’t improve CPU-bound tasks much.\n",
        "\n",
        "  - Overhead: Low, because threads share memory and are lighter than processes.\n",
        "\n",
        "  - Communication: Easy between threads since they share memory (but needs synchronization to avoid\n",
        "\n",
        "\n",
        " - **Multiprocessing**\n",
        "\n",
        "  - Definition: Running multiple processes in separate memory spaces.\n",
        "\n",
        "  - Each process has its own memory space (no shared memory by default).\n",
        "\n",
        "  - Use case: Best for CPU-bound tasks, because multiple processes can run truly in parallel on multiple CPU cores.\n",
        "\n",
        "  - Limitations: Higher overhead due to separate memory and context switching.\n",
        "\n",
        "  - Overhead: Higher than threads because processes are heavier.\n",
        "\n",
        "  - Communication: Needs explicit communication methods (pipes, queues) since memory isn’t shared."
      ],
      "metadata": {
        "id": "lMp_aZW8u6Nc"
      }
    },
    {
      "cell_type": "markdown",
      "source": [
        "10. What are the advantages of using logging in a program?\n",
        "\n",
        " - Using logging in a program has several key advantages over simply using print() statements. Logging is a powerful way to track what your code is doing, especially in larger or long-running applications.\n",
        "\n",
        "  - **Advantages of Using Logging**\n",
        "\n",
        "  - Tracks Program Execution\n",
        "\n",
        "  - Helps you understand what your program is doing at different stages.\n",
        "\n",
        "   - Different Levels of Importance\n",
        "\n",
        "  - You can categorize messages as:\n",
        "DEBUG, INFO, WARNING, ERROR, CRITICAL\n",
        "Example:\n",
        "\n"
      ],
      "metadata": {
        "id": "5Mm1t5P2v7cY"
      }
    },
    {
      "cell_type": "markdown",
      "source": [
        "11. What is memory management in Python?\n",
        "\n",
        "   - Memory management in Python refers to how the Python interpreter handles allocation, usage, and release of memory for variables, data structures, and objects during program execution.\n",
        "\n",
        "- **Key Concepts in Python Memory Management**\n",
        "\n",
        " 1. Automatic Memory Management\n",
        "Python handles memory allocation and deallocation automatically.\n",
        "\n",
        "  You don’t need to manually free memory (like in C/C++).\n",
        "\n",
        " 2. Reference Counting\n",
        "Every object in Python has a reference count, which tracks how many references (variables or containers) point to it.\n",
        "\n",
        "When an object’s reference count drops to zero, Python knows it's no longer needed and can delete it"
      ],
      "metadata": {
        "id": "0iAbYNGKw2AC"
      }
    },
    {
      "cell_type": "markdown",
      "source": [
        "12. What are the basic steps involved in exception handling in Python?\n",
        "\n",
        " - Exception handling in Python is a structured way to detect, respond to, and recover from errors during program execution without crashing the program."
      ],
      "metadata": {
        "id": "LbAChhmWxX8I"
      }
    },
    {
      "cell_type": "code",
      "source": [
        "try:\n",
        "    num = int(input(\"Enter a number: \"))\n",
        "    result = 10 / num\n",
        "except ZeroDivisionError:\n",
        "    print(\"You can't divide by zero!\")\n",
        "except ValueError:\n",
        "    print(\"Invalid input! Please enter a number.\")\n",
        "else:\n",
        "    print(\"Result:\", result)\n",
        "finally:\n",
        "    print(\"Execution completed.\")\n"
      ],
      "metadata": {
        "colab": {
          "base_uri": "https://localhost:8080/"
        },
        "id": "mgqBXzRhyQnf",
        "outputId": "23c982f6-c372-4309-fdfc-b5739a982848"
      },
      "execution_count": 12,
      "outputs": [
        {
          "output_type": "stream",
          "name": "stdout",
          "text": [
            "Enter a number: 5\n",
            "Result: 2.0\n",
            "Execution completed.\n"
          ]
        }
      ]
    },
    {
      "cell_type": "markdown",
      "source": [
        "13 Why is memory management important in Python?\n",
        "\n",
        "  - Memory management is crucial in Python (and any programming language) to ensure that your program runs efficiently, reliably, and securely.\n",
        " - **Key Reasons Why Memory Management Is Important in Python**\n",
        "1. Efficient Use of Resources\n",
        "\n",
        "    - Python programs can create many objects (variables, lists, classes, etc.).\n",
        "\n",
        "    - Good memory management ensures unused objects are cleaned up, preventing waste of memory.\n",
        "\n",
        "    2. Prevents Memory Leaks\n",
        "\n",
        "    - If unused objects are not removed, they accumulate in memory.\n",
        "\n",
        "    - This can lead to memory leaks, causing:\n",
        "\n",
        "    - Slow performance\n",
        "\n",
        "    - Crashes\n",
        "\n",
        "    - System overload"
      ],
      "metadata": {
        "id": "Qn8OPvwzygUi"
      }
    },
    {
      "cell_type": "markdown",
      "source": [
        "14. What is the role of try and except in exception handling?\n",
        "\n",
        " - The try and except blocks are core components of Python’s exception handling system, designed to catch and respond to errors gracefully without crashing the program.\n",
        "\n",
        "- **Role of try**\n",
        "\n",
        "  -  The try block contains code that might raise an exception.\n",
        "\n",
        "  - Python will monitor this block, and if an error occurs, it immediately stops execution within the try and looks for an except block."
      ],
      "metadata": {
        "id": "gqMD8awtz1Re"
      }
    },
    {
      "cell_type": "code",
      "source": [
        "try:\n",
        "    number = int(input(\"Enter a number: \"))  # Might raise ValueError\n"
      ],
      "metadata": {
        "colab": {
          "base_uri": "https://localhost:8080/",
          "height": 106
        },
        "id": "UOt15BGy0dkL",
        "outputId": "bccd7549-cd41-4e23-e055-17e8e38852c7"
      },
      "execution_count": 13,
      "outputs": [
        {
          "output_type": "error",
          "ename": "SyntaxError",
          "evalue": "incomplete input (ipython-input-4281964051.py, line 2)",
          "traceback": [
            "\u001b[0;36m  File \u001b[0;32m\"/tmp/ipython-input-4281964051.py\"\u001b[0;36m, line \u001b[0;32m2\u001b[0m\n\u001b[0;31m    number = int(input(\"Enter a number: \"))  # Might raise ValueError\u001b[0m\n\u001b[0m                                                                     ^\u001b[0m\n\u001b[0;31mSyntaxError\u001b[0m\u001b[0;31m:\u001b[0m incomplete input\n"
          ]
        }
      ]
    },
    {
      "cell_type": "markdown",
      "source": [
        " - **Role of except**\n",
        "\n",
        "   - The except block contains code that runs only if an exception occurs in the try block.\n",
        "\n",
        "   - It lets you handle specific errors (like ValueError, ZeroDivisionError, etc.).\n",
        "\n",
        "   - You can also handle all exceptions (not recommended unless used carefully).\n",
        "\n",
        "   - python\n",
        "\n",
        "   -  Copy\n",
        "\n",
        "   - Edit\n"
      ],
      "metadata": {
        "id": "YNUrqLye0oay"
      }
    },
    {
      "cell_type": "code",
      "source": [
        "try:\n",
        "    num = int(input(\"Enter a number: \"))\n",
        "    result = 10 / num\n",
        "except ValueError:\n",
        "    print(\"Invalid input! Please enter a number.\")\n",
        "except ZeroDivisionError:\n",
        "    print(\"You can't divide by zero.\")\n"
      ],
      "metadata": {
        "colab": {
          "base_uri": "https://localhost:8080/"
        },
        "id": "EDyg70v31TSt",
        "outputId": "8248b540-ece9-4881-c815-5c710e869fc6"
      },
      "execution_count": 14,
      "outputs": [
        {
          "name": "stdout",
          "output_type": "stream",
          "text": [
            "Enter a number: 65\n"
          ]
        }
      ]
    },
    {
      "cell_type": "markdown",
      "source": [
        "15. How does Python's garbage collection system work?\n",
        "\n",
        " - Python’s garbage collection (GC) system automatically frees up memory by removing objects that are no longer in use. This helps prevent memory leaks and keeps programs efficient.\n",
        "\n",
        "- **Python Uses Two Main Techniques**\n",
        "   1. Reference Counting\n",
        "Every object in Python keeps track of how many references (pointers) point to it.\n",
        "\n"
      ],
      "metadata": {
        "id": "9LWZWl_s1kVS"
      }
    },
    {
      "cell_type": "code",
      "source": [
        "a = [1, 2, 3]  # Ref count = 1\n",
        "b = a          # Ref count = 2\n",
        "del a          # Ref count = 1\n",
        "del b          # Ref count = 0 → Object deleted\n"
      ],
      "metadata": {
        "id": "SYr0y1YA2De9"
      },
      "execution_count": 15,
      "outputs": []
    },
    {
      "cell_type": "markdown",
      "source": [
        "16. What is the purpose of the else block in exception handling?\n",
        "\n",
        " - The **else** block in exception handling is used to define code that should run only if no exceptions were raised in the try block.\n",
        "\n",
        "- **Purpose of the else Block**\n",
        "\n",
        "   Helps separate error-handling logic (except) from normal, successful execution.\n",
        "\n",
        "  Makes the code cleaner and more readable.\n",
        "\n"
      ],
      "metadata": {
        "id": "ZfdqulQP2Id7"
      }
    },
    {
      "cell_type": "markdown",
      "source": [
        "17 What are the common logging levels in Python?\n",
        "\n",
        " - Python’s logging module defines logging levels to categorize messages by severity or importance. These levels help control what messages are shown or stored — especially useful for debugging, monitoring, and production environments.\n",
        "\n",
        "\n"
      ],
      "metadata": {
        "id": "UT4kzwTH27qD"
      }
    },
    {
      "cell_type": "code",
      "source": [
        "import logging\n",
        "\n",
        "logging.basicConfig(level=logging.DEBUG)\n",
        "\n",
        "logging.debug(\"Debug message\")\n",
        "logging.info(\"Info message\")\n",
        "logging.warning(\"Warning message\")\n",
        "logging.error(\"Error message\")\n",
        "logging.critical(\"Critical message\")\n"
      ],
      "metadata": {
        "colab": {
          "base_uri": "https://localhost:8080/"
        },
        "id": "tpMt6do_3eIi",
        "outputId": "426f4817-84a1-4272-c79f-fa68d29154e6"
      },
      "execution_count": 16,
      "outputs": [
        {
          "output_type": "stream",
          "name": "stderr",
          "text": [
            "WARNING:root:Warning message\n",
            "ERROR:root:Error message\n",
            "CRITICAL:root:Critical message\n"
          ]
        }
      ]
    },
    {
      "cell_type": "markdown",
      "source": [
        "18 What is the difference between os.fork() and multiprocessing in Python?\n",
        "\n",
        "  - Both os.fork() and the multiprocessing module are used to create new processes in Python, but they work very differently and are suited for different situations"
      ],
      "metadata": {
        "id": "cfGhtyU_3tMk"
      }
    },
    {
      "cell_type": "code",
      "source": [
        "#exammple\n",
        "import os\n",
        "\n",
        "pid = os.fork()\n",
        "\n",
        "if pid == 0:\n",
        "    print(\"Child process\")\n",
        "else:\n",
        "    print(\"Parent process, child PID:\", pid)\n"
      ],
      "metadata": {
        "colab": {
          "base_uri": "https://localhost:8080/"
        },
        "id": "jtiAHpvS4HSj",
        "outputId": "d1fa4c89-625f-4c03-a17f-d19e6c43a681"
      },
      "execution_count": 17,
      "outputs": [
        {
          "output_type": "stream",
          "name": "stdout",
          "text": [
            "Parent process, child PID: 16662\n",
            "Child process\n"
          ]
        }
      ]
    },
    {
      "cell_type": "code",
      "source": [
        "#example\n",
        "from multiprocessing import Process\n",
        "\n",
        "def task():\n",
        "    print(\"Child process running\")\n",
        "\n",
        "if __name__ == \"__main__\":\n",
        "    p = Process(target=task)\n",
        "    p.start()\n",
        "    p.join()\n"
      ],
      "metadata": {
        "colab": {
          "base_uri": "https://localhost:8080/"
        },
        "id": "7cYitaeK4Qmj",
        "outputId": "dc12bf04-a15a-4893-c6d5-7ce4e5f28b56"
      },
      "execution_count": 18,
      "outputs": [
        {
          "output_type": "stream",
          "name": "stdout",
          "text": [
            "Child process running\n"
          ]
        }
      ]
    },
    {
      "cell_type": "markdown",
      "source": [
        "19. What is the importance of closing a file in Python?\n",
        "\n",
        "- 1. Frees System Resources\n",
        "\n",
        " - Every open file consumes system resources like memory or file descriptors.\n",
        "\n",
        " - Not closing a file can lead to resource leaks, especially when opening many files.\n",
        "\n",
        "- 2. Ensures Data Is Written (for Write Modes)\n",
        "\n",
        " - When writing ('w', 'a', or 'r+' modes), data may be held in a buffer.\n",
        "\n",
        " - file.close() flushes the buffer and writes all data to disk.\n",
        "\n",
        " - If you don’t close it, some data may be lost or corrupted.\n",
        "\n",
        "- 3. Avoids File Locking Issues\n",
        "\n",
        " - On some systems, an open file might be locked.\n",
        "\n",
        " - Not closing it can block other programs or parts of your own code from accessing it.\n",
        "\n",
        "- 4. Prevents Errors in Large Programs\n",
        " - Leaving files open too long increases the risk of bugs, memory overuse, and system crashes."
      ],
      "metadata": {
        "id": "gkMGiadc4g2D"
      }
    },
    {
      "cell_type": "code",
      "source": [
        "file = open(\"data.txt\", \"w\")\n",
        "file.write(\"Hello, world!\")\n",
        "file.close()  # Very important!\n"
      ],
      "metadata": {
        "id": "YWn32_ys5sIA"
      },
      "execution_count": 19,
      "outputs": []
    },
    {
      "cell_type": "markdown",
      "source": [
        "20. What is the difference between file.read() and file.readline() in Python?\n",
        "\n",
        " - Both file.read() and file.readline() are used to read content from a file, but they behave very differently in terms of how much they read.\n",
        "\n",
        " **file.read()**\n",
        "   - when we need to read whole code at once then we used to this.\n",
        "\n",
        "**file.readline()**\n",
        "\n",
        "  - when we need read code line by line we usd to this\n",
        "  ."
      ],
      "metadata": {
        "id": "mQRzIQF95yA6"
      }
    },
    {
      "cell_type": "markdown",
      "source": [
        "21. What is the logging module in Python used for?\n",
        "\n",
        "  - The logging module in Python is used to track events, record errors, and monitor the flow of your program — especially useful for debugging, auditing, and maintaining applicatitble.\n",
        "\n",
        "- the logging module is used to record messages about your program's operation, helping with:\n",
        "\n",
        "  - Debugging\n",
        "\n",
        "  - Monitoring\n",
        "\n",
        "  - Auditing\n",
        "\n",
        "  - Error tracking\n",
        "\n",
        "  - It's a best practice over print() — especially in real-world projects.\n",
        "\n",
        "  - Let me know if you want help setting up logging in a script or app!\n",
        "\n",
        "\n",
        "\n",
        "\n",
        "\n"
      ],
      "metadata": {
        "id": "tqs1Fuhg7g7k"
      }
    },
    {
      "cell_type": "markdown",
      "source": [
        "23. What is the os module in Python used for in file handling?\n",
        "\n",
        " - The os module in Python provides a way to interact with the operating system, especially for file and directory management."
      ],
      "metadata": {
        "id": "iTonDiw98yCv"
      }
    },
    {
      "cell_type": "code",
      "source": [
        "#makingdirectries\n",
        "import os\n",
        "\n",
        "os.path.exists('example.txt')   # Returns True if the file exists\n"
      ],
      "metadata": {
        "colab": {
          "base_uri": "https://localhost:8080/"
        },
        "id": "ajMMcpJH9ST3",
        "outputId": "0eed8b83-d2fe-4759-a68f-02f5ea32303f"
      },
      "execution_count": 20,
      "outputs": [
        {
          "output_type": "execute_result",
          "data": {
            "text/plain": [
              "False"
            ]
          },
          "metadata": {},
          "execution_count": 20
        }
      ]
    },
    {
      "cell_type": "code",
      "source": [
        "os.mkdir('new_folder')          # Creates a new directory\n",
        "os.makedirs('path/to/folder')   # Creates nested directories\n"
      ],
      "metadata": {
        "id": "QDnbM7mH9vyF"
      },
      "execution_count": 21,
      "outputs": []
    },
    {
      "cell_type": "markdown",
      "source": [
        "22.What are the challenges associated with memory management in Python?\n",
        "\n",
        "  - Memory management in Python is largely handled by the interpreter (specifically the Python memory manager and garbage collector), but challenges still exist, especially in larger or performance-sensitive applications.\n",
        "\n",
        "Here are the key challenges associated with memory management in Python:\n",
        "- 1. Circular References\n",
        "\n",
        "  - Python uses reference counting for memory management.\n",
        "\n",
        " - If two or more objects reference each other, their reference counts never reach zero—even if they're no longer used.\n",
        "\n",
        " - The garbage collector can detect and clean these, but not always immediately or efficiently."
      ],
      "metadata": {
        "id": "AEeuIgHE9_yw"
      }
    },
    {
      "cell_type": "markdown",
      "source": [
        "24.  How do you raise an exception manually in Python?\n",
        "\n",
        "  - In Python, you can raise an exception manually using the raise keyword. This is useful when you want to indicate that an error or unusual condition has occurred in your program."
      ],
      "metadata": {
        "id": "iFItvfFr_Jfr"
      }
    },
    {
      "cell_type": "code",
      "source": [
        "#basic syntex\n",
        "raise ExceptionType(\"Error message\")\n"
      ],
      "metadata": {
        "colab": {
          "base_uri": "https://localhost:8080/",
          "height": 159
        },
        "id": "x3glOdz5_csQ",
        "outputId": "46f1f390-8627-4322-d009-75997f478605"
      },
      "execution_count": 22,
      "outputs": [
        {
          "output_type": "error",
          "ename": "NameError",
          "evalue": "name 'ExceptionType' is not defined",
          "traceback": [
            "\u001b[0;31m---------------------------------------------------------------------------\u001b[0m",
            "\u001b[0;31mNameError\u001b[0m                                 Traceback (most recent call last)",
            "\u001b[0;32m/tmp/ipython-input-4197153250.py\u001b[0m in \u001b[0;36m<cell line: 0>\u001b[0;34m()\u001b[0m\n\u001b[1;32m      1\u001b[0m \u001b[0;31m#basic syntex\u001b[0m\u001b[0;34m\u001b[0m\u001b[0;34m\u001b[0m\u001b[0m\n\u001b[0;32m----> 2\u001b[0;31m \u001b[0;32mraise\u001b[0m \u001b[0mExceptionType\u001b[0m\u001b[0;34m(\u001b[0m\u001b[0;34m\"Error message\"\u001b[0m\u001b[0;34m)\u001b[0m\u001b[0;34m\u001b[0m\u001b[0;34m\u001b[0m\u001b[0m\n\u001b[0m",
            "\u001b[0;31mNameError\u001b[0m: name 'ExceptionType' is not defined"
          ]
        }
      ]
    },
    {
      "cell_type": "code",
      "source": [
        "age = -5\n",
        "if age < 0:\n",
        "    raise ValueError(\"Age cannot be negative\")\n"
      ],
      "metadata": {
        "colab": {
          "base_uri": "https://localhost:8080/",
          "height": 176
        },
        "id": "IHF0sDrm_vff",
        "outputId": "79a05894-8a90-4ff1-925b-9739daa6cc36"
      },
      "execution_count": 23,
      "outputs": [
        {
          "output_type": "error",
          "ename": "ValueError",
          "evalue": "Age cannot be negative",
          "traceback": [
            "\u001b[0;31m---------------------------------------------------------------------------\u001b[0m",
            "\u001b[0;31mValueError\u001b[0m                                Traceback (most recent call last)",
            "\u001b[0;32m/tmp/ipython-input-1578993831.py\u001b[0m in \u001b[0;36m<cell line: 0>\u001b[0;34m()\u001b[0m\n\u001b[1;32m      1\u001b[0m \u001b[0mage\u001b[0m \u001b[0;34m=\u001b[0m \u001b[0;34m-\u001b[0m\u001b[0;36m5\u001b[0m\u001b[0;34m\u001b[0m\u001b[0;34m\u001b[0m\u001b[0m\n\u001b[1;32m      2\u001b[0m \u001b[0;32mif\u001b[0m \u001b[0mage\u001b[0m \u001b[0;34m<\u001b[0m \u001b[0;36m0\u001b[0m\u001b[0;34m:\u001b[0m\u001b[0;34m\u001b[0m\u001b[0;34m\u001b[0m\u001b[0m\n\u001b[0;32m----> 3\u001b[0;31m     \u001b[0;32mraise\u001b[0m \u001b[0mValueError\u001b[0m\u001b[0;34m(\u001b[0m\u001b[0;34m\"Age cannot be negative\"\u001b[0m\u001b[0;34m)\u001b[0m\u001b[0;34m\u001b[0m\u001b[0;34m\u001b[0m\u001b[0m\n\u001b[0m",
            "\u001b[0;31mValueError\u001b[0m: Age cannot be negative"
          ]
        }
      ]
    },
    {
      "cell_type": "markdown",
      "source": [
        "25. Why is it important to use multithreading in certain applications?\n",
        "\n",
        "\n",
        " - Using multithreading is important in certain applications because it allows a program to perform multiple operations concurrently, which can lead to:\n",
        "\n",
        " 1. Improved Responsiveness (Especially in UI Applications)\n",
        "\n",
        "   In GUI apps (e.g., with Tkinter or PyQt), multithreading keeps the interface responsive.\n",
        "\n",
        "Example: A thread can handle file downloads while the main thread updates the progress bar.\n",
        "\n",
        " 2. Efficient Handling of I/O-bound Tasks\n",
        "\n",
        "   When a program is waiting for input/output (disk, network, database), CPU is idle.\n",
        "\n",
        "Threads allow you to continue other work during I/O"
      ],
      "metadata": {
        "id": "mhBjSJvp_4IP"
      }
    },
    {
      "cell_type": "markdown",
      "source": [
        "**practical**"
      ],
      "metadata": {
        "id": "DbWgWof7ATJy"
      }
    },
    {
      "cell_type": "code",
      "source": [
        "#1. How can you open a file for writing in Python and write a string to it?\n",
        "with open('filename.txt', 'w') as file:\n",
        "    file.write(\"Your string goes here.\")\n"
      ],
      "metadata": {
        "id": "j9lj4rQoAZ0l"
      },
      "execution_count": 24,
      "outputs": []
    },
    {
      "cell_type": "code",
      "source": [
        "#2. Write a Python program to read the contents of a file and print each line?\n",
        "# Open the file in read mode\n",
        "with open('example.txt', 'r') as file:\n",
        "    # Loop through each line in the file\n",
        "    for line in file:\n",
        "        # Print the line (with .strip() to remove trailing newline)\n",
        "        print(line.strip())\n"
      ],
      "metadata": {
        "colab": {
          "base_uri": "https://localhost:8080/",
          "height": 211
        },
        "id": "1Vg9-9rVA4Sn",
        "outputId": "ac8ae2d1-b3a0-4261-9bbf-fa66c023a911"
      },
      "execution_count": 27,
      "outputs": [
        {
          "output_type": "error",
          "ename": "FileNotFoundError",
          "evalue": "[Errno 2] No such file or directory: 'example.txt'",
          "traceback": [
            "\u001b[0;31m---------------------------------------------------------------------------\u001b[0m",
            "\u001b[0;31mFileNotFoundError\u001b[0m                         Traceback (most recent call last)",
            "\u001b[0;32m/tmp/ipython-input-1837235414.py\u001b[0m in \u001b[0;36m<cell line: 0>\u001b[0;34m()\u001b[0m\n\u001b[1;32m      1\u001b[0m \u001b[0;31m#2. Write a Python program to read the contents of a file and print each line?\u001b[0m\u001b[0;34m\u001b[0m\u001b[0;34m\u001b[0m\u001b[0m\n\u001b[1;32m      2\u001b[0m \u001b[0;31m# Open the file in read mode\u001b[0m\u001b[0;34m\u001b[0m\u001b[0;34m\u001b[0m\u001b[0m\n\u001b[0;32m----> 3\u001b[0;31m \u001b[0;32mwith\u001b[0m \u001b[0mopen\u001b[0m\u001b[0;34m(\u001b[0m\u001b[0;34m'example.txt'\u001b[0m\u001b[0;34m,\u001b[0m \u001b[0;34m'r'\u001b[0m\u001b[0;34m)\u001b[0m \u001b[0;32mas\u001b[0m \u001b[0mfile\u001b[0m\u001b[0;34m:\u001b[0m\u001b[0;34m\u001b[0m\u001b[0;34m\u001b[0m\u001b[0m\n\u001b[0m\u001b[1;32m      4\u001b[0m     \u001b[0;31m# Loop through each line in the file\u001b[0m\u001b[0;34m\u001b[0m\u001b[0;34m\u001b[0m\u001b[0m\n\u001b[1;32m      5\u001b[0m     \u001b[0;32mfor\u001b[0m \u001b[0mline\u001b[0m \u001b[0;32min\u001b[0m \u001b[0mfile\u001b[0m\u001b[0;34m:\u001b[0m\u001b[0;34m\u001b[0m\u001b[0;34m\u001b[0m\u001b[0m\n",
            "\u001b[0;31mFileNotFoundError\u001b[0m: [Errno 2] No such file or directory: 'example.txt'"
          ]
        }
      ]
    },
    {
      "cell_type": "markdown",
      "source": [
        "#"
      ],
      "metadata": {
        "id": "BXvnVs4Bfc7Z"
      }
    },
    {
      "cell_type": "code",
      "source": [
        "#3. How would you handle a case where the file doesn't exist while trying to open it for reading?\n",
        "try:\n",
        "    with open('example.txt', 'r') as file:\n",
        "        for line in file:\n",
        "            print(line.strip())\n",
        "except FileNotFoundError:\n",
        "    print(\"Error: The file does not exist.\")\n"
      ],
      "metadata": {
        "colab": {
          "base_uri": "https://localhost:8080/"
        },
        "id": "XcoygUnPBV9W",
        "outputId": "4fa63139-e488-47fa-f700-974163f6927c"
      },
      "execution_count": 2,
      "outputs": [
        {
          "output_type": "stream",
          "name": "stdout",
          "text": [
            "Error: The file does not exist.\n"
          ]
        }
      ]
    },
    {
      "cell_type": "code",
      "source": [
        "filename = input(\"Enter the filename: \")\n",
        "\n",
        "try:\n",
        "    with open(filename, 'r') as file:\n",
        "        print(\"File content:\")\n",
        "        for line in file:\n",
        "            print(line.strip())\n",
        "except FileNotFoundError:\n",
        "    print(f\"Error: '{filename}' not found. Please check the filename and try again.\")\n"
      ],
      "metadata": {
        "colab": {
          "base_uri": "https://localhost:8080/"
        },
        "id": "2nknEoHEf82j",
        "outputId": "f652427c-bb20-4d46-ac7b-59231cf5d04d"
      },
      "execution_count": 1,
      "outputs": [
        {
          "output_type": "stream",
          "name": "stdout",
          "text": [
            "Enter the filename: programfilw.text\n",
            "Error: 'programfilw.text' not found. Please check the filename and try again.\n"
          ]
        }
      ]
    },
    {
      "cell_type": "code",
      "source": [
        "#4 .Write a Python script that reads from one file and writes its content to another file\n",
        "# Define source and destination filenames\n",
        "source_file = 'source.txt'\n",
        "destination_file = 'destination.txt'\n",
        "\n",
        "try:\n",
        "    # Open the source file for reading\n",
        "    with open(source_file, 'r') as src:\n",
        "        # Open the destination file for writing\n",
        "        with open(destination_file, 'w') as dest:\n",
        "            # Read from source and write to destination\n",
        "            for line in src:\n",
        "                dest.write(line)\n",
        "    print(f\"Contents copied from '{source_file}' to '{destination_file}' successfully.\")\n",
        "\n",
        "except FileNotFoundError:\n",
        "    print(f\"Error: The file '{source_file}' does not exist.\")\n",
        "except IOError as e:\n",
        "    print(f\"I/O error occurred: {e}\")\n"
      ],
      "metadata": {
        "colab": {
          "base_uri": "https://localhost:8080/"
        },
        "id": "UIZ7NfRigBVX",
        "outputId": "c39475ce-2b4a-435f-d22b-220719885699"
      },
      "execution_count": 3,
      "outputs": [
        {
          "output_type": "stream",
          "name": "stdout",
          "text": [
            "Error: The file 'source.txt' does not exist.\n"
          ]
        }
      ]
    },
    {
      "cell_type": "code",
      "source": [
        "#5 How would you catch and handle division by zero error in Python?\n",
        "try:\n",
        "    numerator = 10\n",
        "    denominator = 0\n",
        "    result = numerator / denominator\n",
        "    print(\"Result:\", result)\n",
        "\n",
        "except ZeroDivisionError:\n",
        "    print(\"Error: Division by zero is not allowed.\")\n"
      ],
      "metadata": {
        "colab": {
          "base_uri": "https://localhost:8080/"
        },
        "id": "sSRAdv-0gkkZ",
        "outputId": "0e111ea1-de6d-4bfa-c307-9f7964ba0845"
      },
      "execution_count": 4,
      "outputs": [
        {
          "output_type": "stream",
          "name": "stdout",
          "text": [
            "Error: Division by zero is not allowed.\n"
          ]
        }
      ]
    },
    {
      "cell_type": "code",
      "source": [
        "#6. Write a Python program that logs an error message to a log file when a division by zero exception occurs?\n",
        "import logging\n",
        "\n",
        "# Set up logging configuration\n",
        "logging.basicConfig(\n",
        "    filename='error.log',           # Log file name\n",
        "    level=logging.ERROR,            # Log only errors and above\n",
        "    format='%(asctime)s - %(levelname)s - %(message)s'\n",
        ")\n",
        "\n",
        "# Division operation with error handling\n",
        "try:\n",
        "    numerator = 10\n",
        "    denominator = 0\n",
        "    result = numerator / denominator\n",
        "    print(\"Result:\", result)\n",
        "\n",
        "except ZeroDivisionError as e:\n",
        "    logging.error(\"Division by zero occurred: %s\", e)\n",
        "    print(\"An error occurred. Check 'error.log' for details.\")\n"
      ],
      "metadata": {
        "colab": {
          "base_uri": "https://localhost:8080/"
        },
        "id": "j7Utux-Eg4T7",
        "outputId": "9853269a-4e91-4f21-bce6-a9db983742de"
      },
      "execution_count": 5,
      "outputs": [
        {
          "output_type": "stream",
          "name": "stderr",
          "text": [
            "ERROR:root:Division by zero occurred: division by zero\n"
          ]
        },
        {
          "output_type": "stream",
          "name": "stdout",
          "text": [
            "An error occurred. Check 'error.log' for details.\n"
          ]
        }
      ]
    },
    {
      "cell_type": "code",
      "source": [
        "#7. How do you log information at different levels (INFO, ERROR, WARNING) in Python using the logging module?\n",
        "import logging\n",
        "\n",
        "# Configure the logging system\n",
        "logging.basicConfig(\n",
        "    level=logging.DEBUG,                     # Minimum level to capture\n",
        "    format='%(asctime)s - %(levelname)s - %(message)s',\n",
        "    filename='app.log',                      # Optional: log to a file\n",
        "    filemode='w'                             # 'w' = overwrite, 'a' = append\n",
        ")\n",
        "\n",
        "# Log messages at different levels\n",
        "logging.debug(\"This is a DEBUG message\")\n",
        "logging.info(\"This is an INFO message\")\n",
        "logging.warning(\"This is a WARNING message\")\n",
        "logging.error(\"This is an ERROR message\")\n",
        "logging.critical(\"This is a CRITICAL message\")\n"
      ],
      "metadata": {
        "colab": {
          "base_uri": "https://localhost:8080/"
        },
        "id": "RpCUlxyHhXFS",
        "outputId": "d99c6581-b888-4957-c988-e73ad2891bfa"
      },
      "execution_count": 6,
      "outputs": [
        {
          "output_type": "stream",
          "name": "stderr",
          "text": [
            "WARNING:root:This is a WARNING message\n",
            "ERROR:root:This is an ERROR message\n",
            "CRITICAL:root:This is a CRITICAL message\n"
          ]
        }
      ]
    },
    {
      "cell_type": "code",
      "source": [
        "#8. Write a program to handle a file opening error using exception handling?\n",
        "filename = 'nonexistent_file.txt'\n",
        "\n",
        "try:\n",
        "    with open(filename, 'r') as file:\n",
        "        content = file.read()\n",
        "        print(\"File content:\\n\", content)\n",
        "\n",
        "except FileNotFoundError:\n",
        "    print(f\"Error: The file '{filename}' was not found.\")\n",
        "\n",
        "except IOError as e:\n",
        "    print(f\"An I/O error occurred: {e}\")\n"
      ],
      "metadata": {
        "colab": {
          "base_uri": "https://localhost:8080/"
        },
        "id": "02Wr7ZT2h6jL",
        "outputId": "aaebb17a-e429-4ec4-c780-1548c4483661"
      },
      "execution_count": 7,
      "outputs": [
        {
          "output_type": "stream",
          "name": "stdout",
          "text": [
            "Error: The file 'nonexistent_file.txt' was not found.\n"
          ]
        }
      ]
    },
    {
      "cell_type": "code",
      "source": [
        "#9 How can you read a file line by line and store its content in a list in Python?\n",
        "with open('example.txt', 'r') as file:\n",
        "    lines = file.readlines()\n"
      ],
      "metadata": {
        "colab": {
          "base_uri": "https://localhost:8080/",
          "height": 176
        },
        "id": "2EBnFwtBiZ2R",
        "outputId": "ccedfd5f-3e47-422c-f9ef-1f01f48bee88"
      },
      "execution_count": 8,
      "outputs": [
        {
          "output_type": "error",
          "ename": "FileNotFoundError",
          "evalue": "[Errno 2] No such file or directory: 'example.txt'",
          "traceback": [
            "\u001b[0;31m---------------------------------------------------------------------------\u001b[0m",
            "\u001b[0;31mFileNotFoundError\u001b[0m                         Traceback (most recent call last)",
            "\u001b[0;32m/tmp/ipython-input-577023124.py\u001b[0m in \u001b[0;36m<cell line: 0>\u001b[0;34m()\u001b[0m\n\u001b[1;32m      1\u001b[0m \u001b[0;31m#9 How can you read a file line by line and store its content in a list in Python?\u001b[0m\u001b[0;34m\u001b[0m\u001b[0;34m\u001b[0m\u001b[0m\n\u001b[0;32m----> 2\u001b[0;31m \u001b[0;32mwith\u001b[0m \u001b[0mopen\u001b[0m\u001b[0;34m(\u001b[0m\u001b[0;34m'example.txt'\u001b[0m\u001b[0;34m,\u001b[0m \u001b[0;34m'r'\u001b[0m\u001b[0;34m)\u001b[0m \u001b[0;32mas\u001b[0m \u001b[0mfile\u001b[0m\u001b[0;34m:\u001b[0m\u001b[0;34m\u001b[0m\u001b[0;34m\u001b[0m\u001b[0m\n\u001b[0m\u001b[1;32m      3\u001b[0m     \u001b[0mlines\u001b[0m \u001b[0;34m=\u001b[0m \u001b[0mfile\u001b[0m\u001b[0;34m.\u001b[0m\u001b[0mreadlines\u001b[0m\u001b[0;34m(\u001b[0m\u001b[0;34m)\u001b[0m\u001b[0;34m\u001b[0m\u001b[0;34m\u001b[0m\u001b[0m\n",
            "\u001b[0;31mFileNotFoundError\u001b[0m: [Errno 2] No such file or directory: 'example.txt'"
          ]
        }
      ]
    },
    {
      "cell_type": "code",
      "source": [
        "with open('example.txt', 'r') as file:\n",
        "    lines = [line.strip() for line in file]\n"
      ],
      "metadata": {
        "colab": {
          "base_uri": "https://localhost:8080/",
          "height": 159
        },
        "id": "PlC5-o8-i8pf",
        "outputId": "dc1f6904-33ff-41fe-d9bd-3eee89a0515c"
      },
      "execution_count": 9,
      "outputs": [
        {
          "output_type": "error",
          "ename": "FileNotFoundError",
          "evalue": "[Errno 2] No such file or directory: 'example.txt'",
          "traceback": [
            "\u001b[0;31m---------------------------------------------------------------------------\u001b[0m",
            "\u001b[0;31mFileNotFoundError\u001b[0m                         Traceback (most recent call last)",
            "\u001b[0;32m/tmp/ipython-input-2578298026.py\u001b[0m in \u001b[0;36m<cell line: 0>\u001b[0;34m()\u001b[0m\n\u001b[0;32m----> 1\u001b[0;31m \u001b[0;32mwith\u001b[0m \u001b[0mopen\u001b[0m\u001b[0;34m(\u001b[0m\u001b[0;34m'example.txt'\u001b[0m\u001b[0;34m,\u001b[0m \u001b[0;34m'r'\u001b[0m\u001b[0;34m)\u001b[0m \u001b[0;32mas\u001b[0m \u001b[0mfile\u001b[0m\u001b[0;34m:\u001b[0m\u001b[0;34m\u001b[0m\u001b[0;34m\u001b[0m\u001b[0m\n\u001b[0m\u001b[1;32m      2\u001b[0m     \u001b[0mlines\u001b[0m \u001b[0;34m=\u001b[0m \u001b[0;34m[\u001b[0m\u001b[0mline\u001b[0m\u001b[0;34m.\u001b[0m\u001b[0mstrip\u001b[0m\u001b[0;34m(\u001b[0m\u001b[0;34m)\u001b[0m \u001b[0;32mfor\u001b[0m \u001b[0mline\u001b[0m \u001b[0;32min\u001b[0m \u001b[0mfile\u001b[0m\u001b[0;34m]\u001b[0m\u001b[0;34m\u001b[0m\u001b[0;34m\u001b[0m\u001b[0m\n",
            "\u001b[0;31mFileNotFoundError\u001b[0m: [Errno 2] No such file or directory: 'example.txt'"
          ]
        }
      ]
    },
    {
      "cell_type": "code",
      "source": [
        "lines = []\n",
        "with open('example.txt', 'r') as file:\n",
        "    for line in file:\n",
        "        lines.append(line.strip())\n"
      ],
      "metadata": {
        "id": "FhrIt5N_i_fM"
      },
      "execution_count": null,
      "outputs": []
    },
    {
      "cell_type": "code",
      "source": [
        "#10 How can you append data to an existing file in Python?\n",
        "with open('example.txt', 'a') as file:\n",
        "    file.write(\"This is new data.\\n\")\n"
      ],
      "metadata": {
        "id": "Txde_ulhjH6O"
      },
      "execution_count": 10,
      "outputs": []
    },
    {
      "cell_type": "code",
      "source": [
        "#11. Write a Python program that uses a try-except block to handle an error when attempting to access a\n",
        "#dictionary key that doesn't exist?\n",
        "# Sample dictionary\n",
        "person = {\n",
        "    \"name\": \"Alice\",\n",
        "    \"age\": 30\n",
        "}\n",
        "\n",
        "# Attempt to access a key\n",
        "try:\n",
        "    print(\"Name:\", person[\"name\"])\n",
        "    print(\"Address:\", person[\"address\"])  # This key doesn't exist\n",
        "except KeyError as e:\n",
        "    print(f\"Error: The key '{e.args[0]}' does not exist in the dictionary.\")\n"
      ],
      "metadata": {
        "colab": {
          "base_uri": "https://localhost:8080/"
        },
        "id": "I1mMA7sxjxfD",
        "outputId": "367f4366-37f5-4a76-ca27-4173588df995"
      },
      "execution_count": 11,
      "outputs": [
        {
          "output_type": "stream",
          "name": "stdout",
          "text": [
            "Name: Alice\n",
            "Error: The key 'address' does not exist in the dictionary.\n"
          ]
        }
      ]
    },
    {
      "cell_type": "code",
      "source": [
        "#12. Write a program that demonstrates using multiple except blocks to handle different types of exceptions?\n",
        "try:\n",
        "    # User input that could cause different errors\n",
        "    num1 = int(input(\"Enter a number: \"))\n",
        "    num2 = int(input(\"Enter another number: \"))\n",
        "\n",
        "    result = num1 / num2\n",
        "    print(\"Result:\", result)\n",
        "\n",
        "    # Accessing a non-existent key in a dictionary\n",
        "    data = {\"name\": \"Alice\"}\n",
        "    print(\"Age:\", data[\"age\"])\n",
        "\n",
        "except ValueError:\n",
        "    print(\"Error: Invalid input. Please enter numeric values only.\")\n",
        "\n",
        "except ZeroDivisionError:\n",
        "    print(\"Error: Division by zero is not allowed.\")\n",
        "\n",
        "except KeyError as e:\n",
        "    print(f\"Error: Key '{e.args[0]}' not found in the dictionary.\")\n",
        "\n",
        "except Exception as e:\n",
        "    print(f\"An unexpected error occurred: {e}\")\n",
        "\n"
      ],
      "metadata": {
        "colab": {
          "base_uri": "https://localhost:8080/"
        },
        "id": "Z8bwgEOwkW2h",
        "outputId": "f1d6cbba-fe1f-439a-ec03-87cc047ac146"
      },
      "execution_count": 12,
      "outputs": [
        {
          "output_type": "stream",
          "name": "stdout",
          "text": [
            "Enter a number: 233\n",
            "Enter another number: 123\n",
            "Result: 1.8943089430894309\n",
            "Error: Key 'age' not found in the dictionary.\n"
          ]
        }
      ]
    },
    {
      "cell_type": "code",
      "source": [
        "#13. How would you check if a file exists before attempting to read it in Python?\n",
        "import os\n",
        "\n",
        "filename = \"example.txt\"\n",
        "\n",
        "if os.path.exists(filename):\n",
        "    with open(filename, \"r\") as file:\n",
        "        content = file.read()\n",
        "    print(\"File content:\")\n",
        "    print(content)\n",
        "else:\n",
        "    print(f\"The file '{filename}' does not exist.\")\n"
      ],
      "metadata": {
        "colab": {
          "base_uri": "https://localhost:8080/"
        },
        "id": "892QFPXKkuPG",
        "outputId": "861d03e5-4298-4338-88c5-92181ba41407"
      },
      "execution_count": 13,
      "outputs": [
        {
          "output_type": "stream",
          "name": "stdout",
          "text": [
            "File content:\n",
            "This is new data.\n",
            "\n"
          ]
        }
      ]
    },
    {
      "cell_type": "code",
      "source": [
        "#14. Write a program that uses the logging module to log both informational and error messages?\n",
        "import logging\n",
        "\n",
        "# Configure logging\n",
        "logging.basicConfig(\n",
        "    level=logging.DEBUG,  # Log all levels DEBUG and above\n",
        "    format='%(asctime)s - %(levelname)s - %(message)s',\n",
        "    filename='app.log',  # Log messages will be saved to this file\n",
        "    filemode='w'  # Overwrite the log file each time the program runs\n",
        ")\n",
        "\n",
        "def divide(a, b):\n",
        "    logging.info(f\"Attempting to divide {a} by {b}\")\n",
        "    try:\n",
        "        result = a / b\n",
        "        logging.info(f\"Division successful: {result}\")\n",
        "        return result\n",
        "    except ZeroDivisionError:\n",
        "        logging.error(\"Error: Division by zero attempted!\")\n",
        "        return None\n",
        "\n",
        "# Example usage\n",
        "divide(10, 2)\n",
        "divide(5, 0)\n"
      ],
      "metadata": {
        "colab": {
          "base_uri": "https://localhost:8080/"
        },
        "id": "CCj0Rgv6k-W7",
        "outputId": "d2b7ad99-c774-4635-d818-eee97c0fb5d9"
      },
      "execution_count": 14,
      "outputs": [
        {
          "output_type": "stream",
          "name": "stderr",
          "text": [
            "ERROR:root:Error: Division by zero attempted!\n"
          ]
        }
      ]
    },
    {
      "cell_type": "code",
      "source": [
        "#15. F Write a Python program that prints the content of a file and handles the case when the file is empty?\n",
        "filename = \"example.txt\"\n",
        "\n",
        "try:\n",
        "    with open(filename, \"r\") as file:\n",
        "        content = file.read()\n",
        "        if content:\n",
        "            print(\"File content:\")\n",
        "            print(content)\n",
        "        else:\n",
        "            print(\"The file is empty.\")\n",
        "except FileNotFoundError:\n",
        "    print(f\"The file '{filename}' does not exist.\")\n",
        "except Exception as e:\n",
        "    print(f\"An unexpected error occurred: {e}\")\n"
      ],
      "metadata": {
        "id": "MbG0VArYloK4"
      },
      "execution_count": null,
      "outputs": []
    },
    {
      "cell_type": "code",
      "source": [
        "#16. Demonstrate how to use memory profiling to check the memory usage of a small program\n",
        "pip install memory_profiler\n",
        "\n",
        "# filename: example.py\n",
        "\n",
        "from memory_profiler import profile\n",
        "\n",
        "@profile\n",
        "def my_function():\n",
        "    a = [i for i in range(100000)]  # allocate a big list\n",
        "    b = [i*i for i in range(100000)]\n",
        "    del a\n",
        "    return b\n",
        "\n",
        "if __name__ == \"__main__\":\n",
        "    my_function()\n"
      ],
      "metadata": {
        "colab": {
          "base_uri": "https://localhost:8080/",
          "height": 106
        },
        "id": "9aFKlJ3RmFOR",
        "outputId": "402dae2b-3c0a-4a46-d7b7-27fda0b913e4"
      },
      "execution_count": 16,
      "outputs": [
        {
          "output_type": "error",
          "ename": "SyntaxError",
          "evalue": "invalid syntax (ipython-input-3961760949.py, line 2)",
          "traceback": [
            "\u001b[0;36m  File \u001b[0;32m\"/tmp/ipython-input-3961760949.py\"\u001b[0;36m, line \u001b[0;32m2\u001b[0m\n\u001b[0;31m    pip install memory_profiler\u001b[0m\n\u001b[0m        ^\u001b[0m\n\u001b[0;31mSyntaxError\u001b[0m\u001b[0;31m:\u001b[0m invalid syntax\n"
          ]
        }
      ]
    },
    {
      "cell_type": "code",
      "source": [
        "#17. Write a Python program to create and write a list of numbers to a file, one number per line?\n",
        "# Create a list of numbers\n",
        "numbers = [1, 2, 3, 4, 5, 6, 7, 8, 9, 10]\n",
        "\n",
        "# Open a file in write mode\n",
        "with open('numbers.txt', 'w') as file:\n",
        "    # Write each number on a new line\n",
        "    for number in numbers:\n",
        "        file.write(f\"{number}\\n\")\n",
        "\n",
        "print(\"Numbers have been written to numbers.txt\")\n"
      ],
      "metadata": {
        "colab": {
          "base_uri": "https://localhost:8080/"
        },
        "id": "UzcFKBFomuhl",
        "outputId": "a999c100-1a64-4d1e-cde3-7ab2ded8ead7"
      },
      "execution_count": 17,
      "outputs": [
        {
          "output_type": "stream",
          "name": "stdout",
          "text": [
            "Numbers have been written to numbers.txt\n"
          ]
        }
      ]
    },
    {
      "cell_type": "code",
      "source": [
        "#19. Write a program that handles both IndexError and KeyError using a try-except block?\n",
        "my_list = [10, 20, 30]\n",
        "my_dict = {'a': 1, 'b': 2}\n",
        "\n",
        "try:\n",
        "    # Accessing an index that might be out of range\n",
        "    print(my_list[5])\n",
        "\n",
        "    # Accessing a key that might not exist\n",
        "    print(my_dict['z'])\n",
        "\n",
        "except IndexError:\n",
        "    print(\"Caught an IndexError: List index is out of range!\")\n",
        "\n",
        "except KeyError:\n",
        "    print(\"Caught a KeyError: Key does not exist in dictionary!\")\n"
      ],
      "metadata": {
        "id": "tBWbrhPBniyf"
      },
      "execution_count": null,
      "outputs": []
    },
    {
      "cell_type": "code",
      "source": [
        "#20. How would you open a file and read its contents using a context manager in Python?\n",
        "filename = 'example.txt'\n",
        "\n",
        "with open(filename, 'r') as file:\n",
        "    contents = file.read()\n",
        "\n",
        "print(contents)\n"
      ],
      "metadata": {
        "id": "k-yxvaE_n5tu"
      },
      "execution_count": null,
      "outputs": []
    },
    {
      "cell_type": "code",
      "source": [
        "#21. Write a Python program that reads a file and prints the number of occurrences of a specific word?\n",
        "def count_word_occurrences(filename, word):\n",
        "    count = 0\n",
        "    word = word.lower()  # For case-insensitive matching\n",
        "\n",
        "    with open(filename, 'r') as file:\n",
        "        for line in file:\n",
        "            # Split line into words and normalize case\n",
        "            words = line.lower().split()\n",
        "            count += words.count(word)\n",
        "\n",
        "    return count\n",
        "\n",
        "# Example usage\n",
        "filename = 'sample.txt'\n",
        "word_to_count = 'python'\n",
        "\n",
        "occurrences = count_word_occurrences(filename, word_to_count)\n",
        "print(f\"The word '{word_to_count}' occurs {occurrences} times in {filename}.\")\n"
      ],
      "metadata": {
        "id": "dxc_2Xb9oKw2"
      },
      "execution_count": null,
      "outputs": []
    },
    {
      "cell_type": "code",
      "source": [
        "#22. How can you check if a file is empty before attempting to read its contents?\n",
        "import os\n",
        "\n",
        "filename = 'example.txt'\n",
        "\n",
        "if os.path.getsize(filename) == 0:\n",
        "    print(\"File is empty.\")\n",
        "else:\n",
        "    with open(filename, 'r') as file:\n",
        "        contents = file.read()\n",
        "        print(contents)\n"
      ],
      "metadata": {
        "id": "S5YmR0JSod_g",
        "outputId": "622f08e2-5926-472a-8971-09afba545cd4",
        "colab": {
          "base_uri": "https://localhost:8080/"
        }
      },
      "execution_count": 19,
      "outputs": [
        {
          "output_type": "stream",
          "name": "stdout",
          "text": [
            "This is new data.\n",
            "\n"
          ]
        }
      ]
    },
    {
      "cell_type": "code",
      "source": [
        "#23. Write a Python program that writes to a log file when an error occurs during file handling?\n",
        "import logging\n",
        "\n",
        "# Set up logging to file 'error.log'\n",
        "logging.basicConfig(\n",
        "    filename='error.log',\n",
        "    level=logging.ERROR,\n",
        "    format='%(asctime)s - %(levelname)s - %(message)s'\n",
        ")\n",
        "\n",
        "filename = 'somefile.txt'\n",
        "\n",
        "try:\n",
        "    with open(filename, 'r') as file:\n",
        "        contents = file.read()\n",
        "        print(contents)\n",
        "\n",
        "except Exception as e:\n",
        "    logging.error(f\"An error occurred while handling the file '{filename}': {e}\")\n",
        "    print(f\"An error occurred. Check 'error.log' for details.\")\n"
      ],
      "metadata": {
        "id": "sNl_znbvo16X",
        "outputId": "e2c98506-1fdf-4f0b-d125-8dead12e910f",
        "colab": {
          "base_uri": "https://localhost:8080/"
        }
      },
      "execution_count": 20,
      "outputs": [
        {
          "output_type": "stream",
          "name": "stderr",
          "text": [
            "ERROR:root:An error occurred while handling the file 'somefile.txt': [Errno 2] No such file or directory: 'somefile.txt'\n"
          ]
        },
        {
          "output_type": "stream",
          "name": "stdout",
          "text": [
            "An error occurred. Check 'error.log' for details.\n"
          ]
        }
      ]
    }
  ]
}